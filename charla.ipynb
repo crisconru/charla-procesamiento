{
 "cells": [
  {
   "cell_type": "markdown",
   "metadata": {
    "slideshow": {
     "slide_type": "slide"
    }
   },
   "source": [
    "<center>\n",
    "    <h1>Del mundo real a tu ordeñador</h1>\n",
    "    <h2>Introducción al procesamiento de señal</h2>\n",
    "</center>"
   ]
  },
  {
   "cell_type": "markdown",
   "metadata": {
    "slideshow": {
     "slide_type": "slide"
    }
   },
   "source": [
    "Desde el principio de los tiempos buscabamos crear el ordenador, ya veréis porqué. Hacer cuentas es molesto, pero necesario. Todos conocemos que en el pasado se usaba el típico [ábaco](https://es.wikipedia.org/wiki/%C3%81baco), pero antes incluso, desde el tiempo de los sumerios (como diría el gran Javier Cansado), ya existían (y siguen existiendo) las famosas [Táblas de Cálculo](https://reglasdecalculo.com/presentaciones/tablas_de_calculo.html). Una tabla de cálculo no es más que un conjunto de datos de operaciones, como las tablas de multiplicar (que son unas tablas de cálculo también).\n",
    "\n",
    "<center>\n",
    "    <table>\n",
    "        <tr>\n",
    "            <td><img src='img/abaco.JPG' alt='ábaco chino'></td>\n",
    "            <td><img src='img/tabla-sumeria.JPG' alt='tabla de cálculo sumeria'></td>\n",
    "        </tr>\n",
    "    </table>\n",
    "</center>"
   ]
  },
  {
   "cell_type": "markdown",
   "metadata": {
    "slideshow": {
     "slide_type": "slide"
    }
   },
   "source": [
    "Un ordenador es una máquina muuuu tonta, lo único que hace es sumar... Peeero, suma muy muy rápido, porque todo son sumas:\n",
    "\n",
    "- Restar: 3-2 es sumar a 3 el número -2.\n",
    "- Multiplicar: 2x3 es sumar 2 veces 3.\n",
    "- Dividir: 6/2 es saber cuantas veces puedo sumarle a 6 el número -2 sin que baje de 0.\n",
    "- Exponente: $2^{3}$ equilave a multiplicar 2x2 (sumar 2 veces 2) 3 veces.\n"
   ]
  },
  {
   "cell_type": "markdown",
   "metadata": {
    "slideshow": {
     "slide_type": "slide"
    }
   },
   "source": [
    "Y así sigue la lista, cualquier operación compleja que os podráis imaginar se puede hacer con sumas **\"¿*Oye y las operaciones trigonométricas (seno, coseno, ...)*?\"** ¡¡¡Ajam!!! Pues también tienen tablas, ya que son funciones que cuyos valores están comprendidos entre -1 y 1.\n",
    "\n",
    "<center><img src='img/seno-coseno.png' alt='Gráfica del seno y coseno en un círculo'></center>"
   ]
  },
  {
   "cell_type": "markdown",
   "metadata": {
    "slideshow": {
     "slide_type": "slide"
    }
   },
   "source": [
    "# Iterar como forma de vida ...\n",
    "Para hacer todo esto, se inventó el oficio de [calculista](https://es.wikipedia.org/wiki/Calculadora_humana), personas dedicadas únicamente a hacer cálculos. Pero claro, todo buen calculista tenía que tener sus tablas de cálculo, que seguro no eran fáciles de replicar, ni aquello era escalable (como se te perdieran o estropeasen...). Así que l@s hamij@s matemátic@s se inventarón los famosos [algoritmos](https://es.wikipedia.org/wiki/Algoritmo), que no son más que recetas, una guía de pasos ordenados que permiten hacer cosas. La múltiplicación es un algoritmo, la división, etc...\n",
    "\n",
    "Como esto va de iterar sobre el trabajo de los demás, alguien inventó una cosa llamada [Series Matemáticas](https://es.wikipedia.org/wiki/Serie_matem%C3%A1tica)\n",
    "\n",
    "<center><img src='https://media.giphy.com/media/luvcXlAjCTZKw/giphy.gif' alt='Gif de la serie Friends'></center>"
   ]
  },
  {
   "cell_type": "markdown",
   "metadata": {
    "slideshow": {
     "slide_type": "slide"
    }
   },
   "source": [
    "# Series Matemáticas\n",
    "Bueno, una serie mátemática es en realidad es una suceción de términos que se suman, y se suele usar el símbolo de sumatorio $\\sum$.  \n",
    "### Serie Numéricas -> cada término de la sucesión es un número\n",
    "Un ejemplo muy chorra de una **Serie Numérica** -> $2x3=\\sum_{i=1}^3 2 = 2+2+2$  \n",
    "### Serie de Funciones -> cada término de la sucesión es una función\n",
    "Otro ejemplo más complejo -> $e^x=\\sum_{i=0}^\\infty \\frac{1}{i!}x^i=1+\\frac{x}{1}+\\frac{x^2}{2}+\\frac{x^3}{6}+...$  \n",
    "#### Seguimos iterando..."
   ]
  },
  {
   "cell_type": "markdown",
   "metadata": {},
   "source": [
    "# Desarrollo en Serie de Funciones\n",
    "Si conseguimos descomponer cualquier función en sumas de funciones más simples, hemos triunfado como los Chichos...\n",
    "### Serie de McLaurin\n",
    "Resulta que el señor [Colin McLaurin](https://es.wikipedia.org/wiki/Colin_Maclaurin) casi rozó la perfección. Descubrió una manera de obtener el valor de una función compleja en suma de funciones menos complejas en unas condiciones muy concretas. Su obra es esto  \n",
    "\n",
    "$f(x) \\approx \\sum_{n=0}^\\infty \\frac{f^{(n)}(0)}{n!} * x^n = f(0) + \\frac{f^{'}(0)}{1!} * x + \\frac{f^{''}(0)}{2!} * x^2 + ...$"
   ]
  },
  {
   "cell_type": "markdown",
   "metadata": {},
   "source": [
    "# Rizando el rizo\n",
    "Uno de los problemas de la Serie de McLaurin es que a veces no podemos saber el valor de una función en 0, pero si es probable que conozcas el valor concreto en otro punto **a**.\n",
    "## Serie de Taylor\n",
    "El señor [Brook Taylor](https://es.wikipedia.org/wiki/Brook_Taylor) dejó muy pequeña la obra de McLaurin, y la generalizó para poder usarse en cualquier punto. La famosa [Serie de Taylor](https://es.wikipedia.org/wiki/Serie_de_Taylor) es así   \n",
    "\n",
    "$f(x-a) \\approx \\sum_{n=0}^\\infty \\frac{f^{(n)}(0)}{n!} * (x-a)^n = f(0) + \\frac{f^{'}(0)}{1!} * (x-a) + \\frac{f^{''}(0)}{2!} * (x-a)^2 + ...$  \n",
    "\n",
    "Es decir, que **la Serie de McLaurin es solo un caso especial de la Serie de Taylor** (es la Serie de Taylor centrada en cero)...\n",
    "\n",
    "<center><img src='https://media.giphy.com/media/3o7qDSOvfaCO9b3MlO/giphy.gif' alt='Gif de Obama tirando el micro callando bocas'></center>"
   ]
  },
  {
   "cell_type": "markdown",
   "metadata": {},
   "source": [
    "# Fourier -> Puro THUG LIFE\n",
    "El problema de "
   ]
  },
  {
   "cell_type": "markdown",
   "metadata": {},
   "source": []
  },
  {
   "cell_type": "markdown",
   "metadata": {},
   "source": []
  }
 ],
 "metadata": {
  "celltoolbar": "Slideshow",
  "kernelspec": {
   "display_name": "Python 3",
   "language": "python",
   "name": "python3"
  },
  "language_info": {
   "codemirror_mode": {
    "name": "ipython",
    "version": 3
   },
   "file_extension": ".py",
   "mimetype": "text/x-python",
   "name": "python",
   "nbconvert_exporter": "python",
   "pygments_lexer": "ipython3",
   "version": "3.7.0"
  }
 },
 "nbformat": 4,
 "nbformat_minor": 2
}
